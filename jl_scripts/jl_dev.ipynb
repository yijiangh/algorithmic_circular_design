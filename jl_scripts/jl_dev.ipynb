{
 "cells": [
  {
   "cell_type": "code",
   "execution_count": 1,
   "metadata": {},
   "outputs": [],
   "source": [
    "using JLD\n",
    "using Revise"
   ]
  },
  {
   "cell_type": "code",
   "execution_count": 2,
   "metadata": {},
   "outputs": [
    {
     "data": {
      "text/plain": [
       "Dict{String, Any} with 2 entries:\n",
       "  \"costs\"    => [31.7775 25.3735 … 20.3386 29.1146; 22.6632 18.501 … 27.6625 37…\n",
       "  \"category\" => [1 7 13; 2 8 14; … ; 5 11 17; 6 12 18]"
      ]
     },
     "execution_count": 2,
     "metadata": {},
     "output_type": "execute_result"
    }
   ],
   "source": [
    "data = load(\"cost_category.jld\")"
   ]
  },
  {
   "cell_type": "code",
   "execution_count": 21,
   "metadata": {},
   "outputs": [],
   "source": [
    "costs = data[\"costs\"]\n",
    "# category_ = [data[\"category\"][i,:] for i in 1:size(data[\"category\"], 1)];\n",
    "category_ = data[\"category\"];"
   ]
  },
  {
   "cell_type": "code",
   "execution_count": 22,
   "metadata": {},
   "outputs": [
    {
     "data": {
      "text/plain": [
       "6×3 Matrix{Int64}:\n",
       " 1   7  13\n",
       " 2   8  14\n",
       " 3   9  15\n",
       " 4  10  16\n",
       " 5  11  17\n",
       " 6  12  18"
      ]
     },
     "execution_count": 22,
     "metadata": {},
     "output_type": "execute_result"
    }
   ],
   "source": [
    "using RecursiveArrayTools\n",
    "category = category_ # transpose(convert(Array, VectorOfArray(category_)))"
   ]
  },
  {
   "cell_type": "code",
   "execution_count": 30,
   "metadata": {},
   "outputs": [
    {
     "data": {
      "text/plain": [
       "6-element Vector{Int64}:\n",
       "  4\n",
       " 13\n",
       " 10\n",
       " 15\n",
       " 14\n",
       " 17"
      ]
     },
     "execution_count": 30,
     "metadata": {},
     "output_type": "execute_result"
    }
   ],
   "source": [
    "includet(\"lp_assignment.jl\")\n",
    "using Main: solve_lp_assignment_problem\n",
    "\n",
    "category = [[1,7], [2,8,14], [3,9,15,16]]\n",
    "assignment, cost_opt, model = solve_lp_assignment_problem(costs, binary_var=false, category=category, verbose=false);\n",
    "assignment"
   ]
  },
  {
   "cell_type": "code",
   "execution_count": 31,
   "metadata": {},
   "outputs": [
    {
     "ename": "LoadError",
     "evalue": "AssertionError: Hehe",
     "output_type": "error",
     "traceback": [
      "AssertionError: Hehe",
      "",
      "Stacktrace:",
      " [1] top-level scope",
      "   @ In[31]:1",
      " [2] eval",
      "   @ .\\boot.jl:360 [inlined]",
      " [3] include_string(mapexpr::typeof(REPL.softscope), mod::Module, code::String, filename::String)",
      "   @ Base .\\loading.jl:1090"
     ]
    }
   ],
   "source": [
    "@assert false \"Hehe\""
   ]
  },
  {
   "cell_type": "code",
   "execution_count": 26,
   "metadata": {},
   "outputs": [
    {
     "data": {
      "text/plain": [
       "87.61721572691457"
      ]
     },
     "execution_count": 26,
     "metadata": {},
     "output_type": "execute_result"
    }
   ],
   "source": [
    "x_opt = value.(model[:x])\n",
    "cost = objective_value(model)"
   ]
  },
  {
   "cell_type": "code",
   "execution_count": 14,
   "metadata": {},
   "outputs": [
    {
     "name": "stdout",
     "output_type": "stream",
     "text": [
      "┌─────┬─────┬─────┬─────┬─────┬─────┬─────┬─────┬─────┬─────┬─────┬─────┬─────┬─────┬─────┬─────┬─────┬─────┐\n",
      "│ 0.0 │ 0.0 │ 0.0 │ 0.0 │ 0.0 │ 0.0 │ 0.0 │ 0.0 │ 0.0 │ 0.0 │ 0.0 │ 0.0 │ 0.0 │ 0.0 │ 1.0 │ 0.0 │ 0.0 │ 0.0 │\n",
      "│ 0.0 │ 0.0 │ 0.0 │ 0.0 │ 0.0 │ 0.0 │ 0.0 │ 0.0 │ 0.0 │ 0.0 │ 0.0 │ 0.0 │ 0.0 │ 1.0 │ 0.0 │ 0.0 │ 0.0 │ 0.0 │\n",
      "│ 0.0 │ 0.0 │ 0.0 │ 0.0 │ 0.0 │ 0.0 │ 0.0 │ 0.0 │ 0.0 │ 0.0 │ 0.0 │ 0.0 │ 0.0 │ 0.0 │ 0.0 │ 1.0 │ 0.0 │ 0.0 │\n",
      "│ 0.0 │ 0.0 │ 0.0 │ 0.0 │ 0.0 │ 0.0 │ 0.0 │ 0.0 │ 0.0 │ 0.0 │ 0.0 │ 0.0 │ 0.0 │ 0.0 │ 1.0 │ 0.0 │ 0.0 │ 0.0 │\n",
      "│ 0.0 │ 0.0 │ 0.0 │ 0.0 │ 0.0 │ 0.0 │ 0.0 │ 0.0 │ 0.0 │ 0.0 │ 0.0 │ 0.0 │ 0.0 │ 0.0 │ 1.0 │ 0.0 │ 0.0 │ 0.0 │\n",
      "│ 0.0 │ 0.0 │ 0.0 │ 0.0 │ 0.0 │ 0.0 │ 0.0 │ 0.0 │ 0.0 │ 0.0 │ 0.0 │ 0.0 │ 0.0 │ 0.0 │ 0.0 │ 1.0 │ 0.0 │ 0.0 │\n",
      "└─────┴─────┴─────┴─────┴─────┴─────┴─────┴─────┴─────┴─────┴─────┴─────┴─────┴─────┴─────┴─────┴─────┴─────┘\n"
     ]
    }
   ],
   "source": [
    "using PrettyTables\n",
    "\n",
    "pretty_table(x_opt, noheader = true)"
   ]
  },
  {
   "cell_type": "code",
   "execution_count": 59,
   "metadata": {},
   "outputs": [
    {
     "data": {
      "text/plain": [
       "6-element Vector{ConstraintRef{Model, MathOptInterface.ConstraintIndex{MathOptInterface.ScalarAffineFunction{Float64}, MathOptInterface.LessThan{Float64}}, ScalarShape}}:\n",
       " x[1,1] + x[2,1] + x[3,1] + x[4,1] + x[5,1] + x[6,1] + x[1,2] + x[2,2] + x[3,2] + x[4,2] + x[5,2] + x[6,2] + x[1,3] + x[2,3] + x[3,3] + x[4,3] + x[5,3] + x[6,3] <= 1.0\n",
       " x[1,4] + x[2,4] + x[3,4] + x[4,4] + x[5,4] + x[6,4] + x[1,5] + x[2,5] + x[3,5] + x[4,5] + x[5,5] + x[6,5] + x[1,6] + x[2,6] + x[3,6] + x[4,6] + x[5,6] + x[6,6] <= 1.0\n",
       " x[1,7] + x[2,7] + x[3,7] + x[4,7] + x[5,7] + x[6,7] + x[1,8] + x[2,8] + x[3,8] + x[4,8] + x[5,8] + x[6,8] + x[1,9] + x[2,9] + x[3,9] + x[4,9] + x[5,9] + x[6,9] <= 1.0\n",
       " x[1,10] + x[2,10] + x[3,10] + x[4,10] + x[5,10] + x[6,10] + x[1,11] + x[2,11] + x[3,11] + x[4,11] + x[5,11] + x[6,11] + x[1,12] + x[2,12] + x[3,12] + x[4,12] + x[5,12] + x[6,12] <= 1.0\n",
       " x[1,13] + x[2,13] + x[3,13] + x[4,13] + x[5,13] + x[6,13] + x[1,14] + x[2,14] + x[3,14] + x[4,14] + x[5,14] + x[6,14] + x[1,15] + x[2,15] + x[3,15] + x[4,15] + x[5,15] + x[6,15] <= 1.0\n",
       " x[1,16] + x[2,16] + x[3,16] + x[4,16] + x[5,16] + x[6,16] + x[1,17] + x[2,17] + x[3,17] + x[4,17] + x[5,17] + x[6,17] + x[1,18] + x[2,18] + x[3,18] + x[4,18] + x[5,18] + x[6,18] <= 1.0"
      ]
     },
     "execution_count": 59,
     "metadata": {},
     "output_type": "execute_result"
    }
   ],
   "source": [
    "using JuMP\n",
    "\n",
    "# model[:inventory_ineq]\n",
    "model[:inventory_category]"
   ]
  }
 ],
 "metadata": {
  "kernelspec": {
   "display_name": "Julia 1.6.0-rc1",
   "language": "julia",
   "name": "julia-1.6"
  },
  "language_info": {
   "file_extension": ".jl",
   "mimetype": "application/julia",
   "name": "julia",
   "version": "1.6.0"
  },
  "orig_nbformat": 4
 },
 "nbformat": 4,
 "nbformat_minor": 2
}
