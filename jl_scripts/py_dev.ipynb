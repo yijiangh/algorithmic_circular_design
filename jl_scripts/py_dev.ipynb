{
 "cells": [
  {
   "cell_type": "code",
   "execution_count": 1,
   "metadata": {},
   "outputs": [],
   "source": [
    "import os, sys\n",
    "from time import time\n",
    "import argparse\n",
    "\n",
    "import numpy as np\n",
    "import julia\n",
    "from julia import Main as jl\n",
    "\n",
    "HERE = %pwd"
   ]
  },
  {
   "cell_type": "code",
   "execution_count": 2,
   "metadata": {},
   "outputs": [
    {
     "name": "stdout",
     "output_type": "stream",
     "text": [
      "Julia setup takes 9823.99988174 ms\n"
     ]
    }
   ],
   "source": [
    "st_time = time()\n",
    "try:\n",
    "    jl.eval('println(\"Julia env inititated.\")')\n",
    "except:\n",
    "    julia.Julia()\n",
    "\n",
    "jl_script_path = os.path.join(HERE, 'lp_assignment.jl')\n",
    "try:\n",
    "    jl.eval('using Main:solve_lp_assignment_problem')\n",
    "except:\n",
    "    jl.include(jl_script_path)\n",
    "total_time = time() - st_time\n",
    "print('Julia setup takes {} ms'.format(total_time*1e3))"
   ]
  },
  {
   "cell_type": "code",
   "execution_count": 3,
   "metadata": {},
   "outputs": [],
   "source": [
    "costs = [[31.777494720152358, 25.37349037890802, 21.85906808003865, 22.623520960429467, 27.30986166142586, 34.34870284720291, 28.613343637227707, 21.277412376069282, 16.933195821832715, 17.90915866420753, 23.552978736860155, 31.444358010590918, 26.031475131364484, 17.653400262671052, 12.068445805210427, 13.403440881823142, 20.338561178012434, 29.114634019870167], [22.663161193203177, 18.501033430407944, 19.26025962226455, 24.487281667040875, 32.067059830376685, 40.70584342436501, 18.89652805904723, 13.628944765106402, 14.64300167773954, 21.049628520670975, 29.52551817635394, 38.735327368000505, 15.82841337922434, 8.899889484008778, 10.386404361064127, 18.34521077217413, 27.662540031592464, 37.33477579581023], [31.0533727877659, 22.880807870028818, 16.815194797396366, 15.555390813592535, 20.029717687796108, 27.57551446377792, 28.924075766971935, 19.895264920647477, 12.451545026700877, 10.689264747454459, 16.537224317592894, 25.153512586110097, 27.548000951994805, 17.83568792450462, 8.793814361784822, 6.045707429138975, 13.991782788764246, 23.558212854483944], [26.29308737621492, 19.430919256988755, 16.24176106738307, 18.709061493519773, 25.224257399706506, 33.503691449823734, 23.53836740582385, 15.501255417865178, 11.248248704942409, 14.58620164150292, 22.338116700494844, 31.38830414538623, 21.605162264834505, 12.370012768310822, 6.26509339806812, 11.202034399378565, 20.290878593180846, 29.96587948787001], [27.793583546831822, 22.9634172476653, 21.958000296156836, 25.23864145158521, 31.49324161843818, 39.3275922597987, 24.075334762955098, 18.28816527878086, 17.00859296296014, 21.074332252655335, 28.26592869889402, 36.79399367460146, 20.89880861489448, 13.841800707915116, 12.100855017447772, 17.35701407123191, 25.614472135583704, 34.7985118661739], [33.97692710609401, 26.71900840335663, 21.757280265337823, 20.805121461560255, 24.33776722536584, 30.851268174937445, 31.201225730919457, 23.08658315120726, 17.101583437899063, 15.872554632737602, 20.283289305609593, 27.764827741962907, 29.02759719044543, 20.051813711895782, 12.710195420306814, 11.001040955664367, 16.748036798204776, 25.297639634555587]]\n",
    "\n",
    "category = [[1, 7, 13], [2, 8, 14], [3, 9, 15], [4, 10, 16], [5, 11, 17], [6, 12, 18]]\n",
    "#[[1, 2, 3], [4, 5, 6], [7, 8, 9], [10, 11, 12], [13, 14, 15], [16, 17, 18]]"
   ]
  },
  {
   "cell_type": "code",
   "execution_count": 15,
   "metadata": {},
   "outputs": [
    {
     "data": {
      "text/plain": [
       "[[1, 7, 13], [2, 8, 14], [3, 9, 15], [4, 10, 16], [5, 11, 17], [6, 12, 18]]"
      ]
     },
     "execution_count": 15,
     "metadata": {},
     "output_type": "execute_result"
    }
   ],
   "source": [
    "category"
   ]
  },
  {
   "cell_type": "code",
   "execution_count": 4,
   "metadata": {},
   "outputs": [],
   "source": [
    "jl.eval(\"using JLD\")\n",
    "jl.save(\"cost_category.jld\", \"costs\", np.array(costs), \"category\", category)"
   ]
  },
  {
   "cell_type": "code",
   "execution_count": 5,
   "metadata": {},
   "outputs": [],
   "source": [
    "data = jl.load(\"cost_category.jld\")"
   ]
  },
  {
   "cell_type": "code",
   "execution_count": 6,
   "metadata": {},
   "outputs": [
    {
     "data": {
      "text/plain": [
       "array([[ 1,  7, 13],\n",
       "       [ 2,  8, 14],\n",
       "       [ 3,  9, 15],\n",
       "       [ 4, 10, 16],\n",
       "       [ 5, 11, 17],\n",
       "       [ 6, 12, 18]], dtype=int64)"
      ]
     },
     "execution_count": 6,
     "metadata": {},
     "output_type": "execute_result"
    }
   ],
   "source": [
    "data['category']"
   ]
  },
  {
   "cell_type": "code",
   "execution_count": 25,
   "metadata": {},
   "outputs": [
    {
     "name": "stdout",
     "output_type": "stream",
     "text": [
      "[14 13 15 14 14 15]\n",
      "56.3810320895\n"
     ]
    }
   ],
   "source": [
    "jl.include(jl_script_path)\n",
    "\n",
    "# cost_mat = np.transpose(np.array(costs))\n",
    "cost_mat = np.array(costs)\n",
    "\n",
    "category = [[1,7,13,5], [3,6]]\n",
    "\n",
    "assignment, cost_opt, model = \\\n",
    "    jl.solve_lp_assignment_problem(cost_mat, category=category, verbose=True)\n",
    "\n",
    "print(assignment-1)\n",
    "print(cost_opt)"
   ]
  }
 ],
 "metadata": {
  "interpreter": {
   "hash": "40d78c89bec49d6558aa2f1a0dbd350549ddef9892413348d98b099dc725d307"
  },
  "kernelspec": {
   "display_name": "Python 3 (ipykernel)",
   "language": "python",
   "name": "python3"
  },
  "language_info": {
   "codemirror_mode": {
    "name": "ipython",
    "version": 2
   },
   "file_extension": ".py",
   "mimetype": "text/x-python",
   "name": "python",
   "nbconvert_exporter": "python",
   "pygments_lexer": "ipython2",
   "version": "2.7.15"
  }
 },
 "nbformat": 4,
 "nbformat_minor": 2
}
